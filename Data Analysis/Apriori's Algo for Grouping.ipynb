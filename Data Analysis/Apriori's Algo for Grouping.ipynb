{
 "cells": [
  {
   "cell_type": "code",
   "execution_count": 64,
   "id": "5da4f3bd-43f0-411c-8949-d4f17d8350ab",
   "metadata": {},
   "outputs": [
    {
     "name": "stdout",
     "output_type": "stream",
     "text": [
      "Frequent Itemsets:\n",
      "     support              itemsets\n",
      "0      0.20              (Barley)\n",
      "1      0.20                (Corn)\n",
      "2      0.15             (Millets)\n",
      "3      0.10              (Onions)\n",
      "4      0.20            (Potatoes)\n",
      "5      0.20              (Pulses)\n",
      "6      0.25                (Rice)\n",
      "7      0.20            (Soybeans)\n",
      "8      0.25            (Tomatoes)\n",
      "9      0.25               (Wheat)\n",
      "10     0.10        (Pulses, Corn)\n",
      "11     0.10  (Soybeans, Potatoes)\n",
      "12     0.10         (Wheat, Rice)\n"
     ]
    },
    {
     "name": "stderr",
     "output_type": "stream",
     "text": [
      "C:\\Users\\Vedant\\anaconda3\\Lib\\site-packages\\mlxtend\\frequent_patterns\\fpcommon.py:109: DeprecationWarning: DataFrames with non-bool types result in worse computationalperformance and their support might be discontinued in the future.Please use a DataFrame with bool type\n",
      "  warnings.warn(\n"
     ]
    }
   ],
   "source": [
    "import pandas as pd\n",
    "from mlxtend.frequent_patterns import apriori, association_rules\n",
    "import matplotlib.pyplot as plt\n",
    "import networkx as nx\n",
    "\n",
    "transactions = [\n",
    "    ['Rice', 'Tomatoes'],\n",
    "    ['Wheat', 'Onions'],\n",
    "    ['Pulses', 'Millets'],\n",
    "    ['Corn', 'Potatoes'],\n",
    "    ['Barley', 'Soybeans'],\n",
    "    ['Rice', 'Soybeans'],\n",
    "    ['Wheat', 'Tomatoes'],\n",
    "    ['Pulses', 'Corn'],\n",
    "    ['Barley', 'Rice'],\n",
    "    ['Potatoes', 'Wheat'],\n",
    "    ['Corn', 'Pulses'],\n",
    "    ['Tomatoes', 'Barley'],\n",
    "    ['Soybeans', 'Potatoes'],\n",
    "    ['Rice', 'Wheat'],\n",
    "    ['Tomatoes', 'Onions'],\n",
    "    ['Corn', 'Millets'],\n",
    "    ['Pulses', 'Tomatoes'],\n",
    "    ['Barley', 'Millets'],\n",
    "    ['Wheat', 'Rice'],\n",
    "    ['Potatoes', 'Soybeans'],\n",
    "]\n",
    "\n",
    "\n",
    "# Convert the list of transactions into a DataFrame\n",
    "transaction_df = pd.DataFrame(transactions)\n",
    "\n",
    "# Step 2: Create a basket matrix\n",
    "basket = transaction_df.apply(lambda x: pd.Series(1, index=x.dropna()), axis=1).fillna(0)\n",
    "\n",
    "# Step 3: Apply the Apriori algorithm to find frequent itemsets\n",
    "frequent_itemsets = apriori(basket, min_support=0.1, use_colnames=True)  # Lowered min_support to 0.1\n",
    "print(\"Frequent Itemsets:\\n\", frequent_itemsets)"
   ]
  },
  {
   "cell_type": "code",
   "execution_count": 66,
   "id": "1dda79c9-89b6-43ea-8753-3e2332efdffa",
   "metadata": {},
   "outputs": [
    {
     "name": "stdout",
     "output_type": "stream",
     "text": [
      "Association Rules:\n",
      "   antecedents consequents  antecedent support  consequent support  support  \\\n",
      "0    (Pulses)      (Corn)                0.20                0.20      0.1   \n",
      "1      (Corn)    (Pulses)                0.20                0.20      0.1   \n",
      "2  (Soybeans)  (Potatoes)                0.20                0.20      0.1   \n",
      "3  (Potatoes)  (Soybeans)                0.20                0.20      0.1   \n",
      "4     (Wheat)      (Rice)                0.25                0.25      0.1   \n",
      "5      (Rice)     (Wheat)                0.25                0.25      0.1   \n",
      "\n",
      "   confidence  lift  leverage  conviction  zhangs_metric  \n",
      "0         0.5   2.5    0.0600        1.60           0.75  \n",
      "1         0.5   2.5    0.0600        1.60           0.75  \n",
      "2         0.5   2.5    0.0600        1.60           0.75  \n",
      "3         0.5   2.5    0.0600        1.60           0.75  \n",
      "4         0.4   1.6    0.0375        1.25           0.50  \n",
      "5         0.4   1.6    0.0375        1.25           0.50  \n"
     ]
    }
   ],
   "source": [
    "rules = association_rules(frequent_itemsets, metric=\"confidence\", min_threshold=0.3)  \n",
    "print(\"Association Rules:\\n\", rules)"
   ]
  },
  {
   "cell_type": "code",
   "execution_count": 68,
   "id": "a33c5632-2f88-4eae-8172-9b2db7745517",
   "metadata": {},
   "outputs": [
    {
     "name": "stdout",
     "output_type": "stream",
     "text": [
      "Rule: ['Pulses'] -> ['Corn'], Support: 0.10, Confidence: 0.50, Lift: 2.50\n",
      "Rule: ['Corn'] -> ['Pulses'], Support: 0.10, Confidence: 0.50, Lift: 2.50\n",
      "Rule: ['Soybeans'] -> ['Potatoes'], Support: 0.10, Confidence: 0.50, Lift: 2.50\n",
      "Rule: ['Potatoes'] -> ['Soybeans'], Support: 0.10, Confidence: 0.50, Lift: 2.50\n",
      "Rule: ['Wheat'] -> ['Rice'], Support: 0.10, Confidence: 0.40, Lift: 1.60\n",
      "Rule: ['Rice'] -> ['Wheat'], Support: 0.10, Confidence: 0.40, Lift: 1.60\n"
     ]
    }
   ],
   "source": [
    "if not rules.empty:\n",
    "    for index, row in rules.iterrows():\n",
    "        print(f\"Rule: {list(row['antecedents'])} -> {list(row['consequents'])}, \"\n",
    "              f\"Support: {row['support']:.2f}, Confidence: {row['confidence']:.2f}, \"\n",
    "              f\"Lift: {row['lift']:.2f}\")\n",
    "else:\n",
    "    print(\"No association rules found.\")"
   ]
  }
 ],
 "metadata": {
  "kernelspec": {
   "display_name": "Python 3 (ipykernel)",
   "language": "python",
   "name": "python3"
  },
  "language_info": {
   "codemirror_mode": {
    "name": "ipython",
    "version": 3
   },
   "file_extension": ".py",
   "mimetype": "text/x-python",
   "name": "python",
   "nbconvert_exporter": "python",
   "pygments_lexer": "ipython3",
   "version": "3.12.4"
  }
 },
 "nbformat": 4,
 "nbformat_minor": 5
}
